{
 "cells": [
  {
   "cell_type": "markdown",
   "metadata": {
    "id": "dOAc3rwtOqza"
   },
   "source": [
    "# DX 601 Week 3 Homework"
   ]
  },
  {
   "cell_type": "markdown",
   "metadata": {
    "id": "HvFQlfoVn8ZT"
   },
   "source": [
    "## Introduction\n",
    "\n",
    "In this homework, you will practice plotting data and calculating model predictions and losses.\n",
    "\n",
    "You may find it helpful to refer to these GitHub repositories of Jupyter notebooks for sample code.\n",
    "\n",
    "* https://github.com/bu-cds-omds/dx500-examples\n",
    "* https://github.com/bu-cds-omds/dx601-examples\n",
    "* https://github.com/bu-cds-omds/dx602-examples\n",
    "\n",
    "Any calculations demonstrated in code examples or videos may be found in these notebooks, and you are allowed to copy this example code in your homework answers."
   ]
  },
  {
   "cell_type": "markdown",
   "metadata": {
    "id": "4sDiMJ05oO_Q"
   },
   "source": [
    "## Instructions\n",
    "\n",
    "You should replace every instance of \"...\" below.\n",
    "These are where you are expected to write code to answer each problem.\n",
    "\n",
    "After some of the problems, there are extra code cells that will test functions that you wrote so you can quickly see how they run on an example.\n",
    "If your code works on these examples, it is more likely to be correct.\n",
    "However, the autograder will test different examples, so working correctly on these examples does not guarantee full credit for the problem.\n",
    "You may change the example inputs to further test your functions on your own.\n",
    "You may also add your own example inputs for problems where we did not provide any.\n",
    "\n",
    "Be sure to run each code block after you edit it to make sure it runs as expected.\n",
    "When you are done, we strongly recommend you run all the code from scratch (Runtime menu -> Restart and Run all) to make sure your current code works for all problems.\n",
    "\n",
    "If your code raises an exception when run from scratch, it will  interfere with the auto-grader process causing you to lose some or all points for this homework.\n",
    "Please ask for help in YellowDig or schedule an appointment with a learning facilitator if you get stuck.\n"
   ]
  },
  {
   "cell_type": "markdown",
   "metadata": {},
   "source": [
    "## Shared Imports\n",
    "\n",
    "Do not install or use any additional modules.\n",
    "Installing additional modules may result in an autograder failure resulting in zero points for some or all problems."
   ]
  },
  {
   "cell_type": "code",
   "metadata": {
    "id": "vU_BLpXEBq8E",
    "ExecuteTime": {
     "end_time": "2025-09-13T22:36:52.253534Z",
     "start_time": "2025-09-13T22:36:50.536755Z"
    }
   },
   "source": [
    "import matplotlib.pyplot as plt\n",
    "import numpy as np\n",
    "import pandas as pd\n",
    "import sklearn.linear_model"
   ],
   "outputs": [],
   "execution_count": 1
  },
  {
   "cell_type": "markdown",
   "metadata": {
    "id": "Ue92HFnk-jSr"
   },
   "source": [
    "### Problem 1\n",
    "\n",
    "The code below loads a small mango data set into the variable `mango_data`.\n",
    "The variable `mango_data` is a pandas dataframe which lets you easily access data one row at a time or one column at a time.\n"
   ]
  },
  {
   "cell_type": "code",
   "metadata": {
    "id": "WwPXKuYW-MeA",
    "ExecuteTime": {
     "end_time": "2025-09-13T23:03:27.237873Z",
     "start_time": "2025-09-13T23:03:27.234853Z"
    }
   },
   "source": [
    "mango_data = pd.read_csv(\"mango-tiny.tsv\", sep=\"\\t\")"
   ],
   "outputs": [],
   "execution_count": 5
  },
  {
   "cell_type": "code",
   "metadata": {
    "colab": {
     "base_uri": "https://localhost:8080/",
     "height": 297
    },
    "id": "5biBYb2g-YKX",
    "outputId": "bd99849c-1747-461a-84fd-4cda2953c47c",
    "ExecuteTime": {
     "end_time": "2025-09-13T23:03:31.117282Z",
     "start_time": "2025-09-13T23:03:31.112706Z"
    }
   },
   "source": [
    "mango_data"
   ],
   "outputs": [
    {
     "data": {
      "text/plain": [
       "   green_rating  yellow_rating  softness  wrinkles  estimated_flavor  \\\n",
       "0             1              5         4         0                 4   \n",
       "1             1              5         5         1                 5   \n",
       "2             2              4         3         1                 3   \n",
       "3             3              3         2         0                 2   \n",
       "4             5              1         1         1                 1   \n",
       "5             4              2         1         1                 1   \n",
       "6             5              1         1         1                 2   \n",
       "7             3              3         2         1                 2   \n",
       "\n",
       "   estimated_sweetness  rated_flavor  \n",
       "0                    4             5  \n",
       "1                    5             1  \n",
       "2                    3             3  \n",
       "3                    1             2  \n",
       "4                    1             1  \n",
       "5                    1             1  \n",
       "6                    1             1  \n",
       "7                    2             2  "
      ],
      "text/html": [
       "<div>\n",
       "<style scoped>\n",
       "    .dataframe tbody tr th:only-of-type {\n",
       "        vertical-align: middle;\n",
       "    }\n",
       "\n",
       "    .dataframe tbody tr th {\n",
       "        vertical-align: top;\n",
       "    }\n",
       "\n",
       "    .dataframe thead th {\n",
       "        text-align: right;\n",
       "    }\n",
       "</style>\n",
       "<table border=\"1\" class=\"dataframe\">\n",
       "  <thead>\n",
       "    <tr style=\"text-align: right;\">\n",
       "      <th></th>\n",
       "      <th>green_rating</th>\n",
       "      <th>yellow_rating</th>\n",
       "      <th>softness</th>\n",
       "      <th>wrinkles</th>\n",
       "      <th>estimated_flavor</th>\n",
       "      <th>estimated_sweetness</th>\n",
       "      <th>rated_flavor</th>\n",
       "    </tr>\n",
       "  </thead>\n",
       "  <tbody>\n",
       "    <tr>\n",
       "      <th>0</th>\n",
       "      <td>1</td>\n",
       "      <td>5</td>\n",
       "      <td>4</td>\n",
       "      <td>0</td>\n",
       "      <td>4</td>\n",
       "      <td>4</td>\n",
       "      <td>5</td>\n",
       "    </tr>\n",
       "    <tr>\n",
       "      <th>1</th>\n",
       "      <td>1</td>\n",
       "      <td>5</td>\n",
       "      <td>5</td>\n",
       "      <td>1</td>\n",
       "      <td>5</td>\n",
       "      <td>5</td>\n",
       "      <td>1</td>\n",
       "    </tr>\n",
       "    <tr>\n",
       "      <th>2</th>\n",
       "      <td>2</td>\n",
       "      <td>4</td>\n",
       "      <td>3</td>\n",
       "      <td>1</td>\n",
       "      <td>3</td>\n",
       "      <td>3</td>\n",
       "      <td>3</td>\n",
       "    </tr>\n",
       "    <tr>\n",
       "      <th>3</th>\n",
       "      <td>3</td>\n",
       "      <td>3</td>\n",
       "      <td>2</td>\n",
       "      <td>0</td>\n",
       "      <td>2</td>\n",
       "      <td>1</td>\n",
       "      <td>2</td>\n",
       "    </tr>\n",
       "    <tr>\n",
       "      <th>4</th>\n",
       "      <td>5</td>\n",
       "      <td>1</td>\n",
       "      <td>1</td>\n",
       "      <td>1</td>\n",
       "      <td>1</td>\n",
       "      <td>1</td>\n",
       "      <td>1</td>\n",
       "    </tr>\n",
       "    <tr>\n",
       "      <th>5</th>\n",
       "      <td>4</td>\n",
       "      <td>2</td>\n",
       "      <td>1</td>\n",
       "      <td>1</td>\n",
       "      <td>1</td>\n",
       "      <td>1</td>\n",
       "      <td>1</td>\n",
       "    </tr>\n",
       "    <tr>\n",
       "      <th>6</th>\n",
       "      <td>5</td>\n",
       "      <td>1</td>\n",
       "      <td>1</td>\n",
       "      <td>1</td>\n",
       "      <td>2</td>\n",
       "      <td>1</td>\n",
       "      <td>1</td>\n",
       "    </tr>\n",
       "    <tr>\n",
       "      <th>7</th>\n",
       "      <td>3</td>\n",
       "      <td>3</td>\n",
       "      <td>2</td>\n",
       "      <td>1</td>\n",
       "      <td>2</td>\n",
       "      <td>2</td>\n",
       "      <td>2</td>\n",
       "    </tr>\n",
       "  </tbody>\n",
       "</table>\n",
       "</div>"
      ]
     },
     "execution_count": 6,
     "metadata": {},
     "output_type": "execute_result"
    }
   ],
   "execution_count": 6
  },
  {
   "cell_type": "markdown",
   "metadata": {
    "id": "RDJb2v6U_Wkb"
   },
   "source": [
    "Given a dataframe, you can select a column by indexing it with the name of the column.\n",
    "The indexing operation uses square brackets and the name of the column goes between them.\n",
    "Here is an example selecting the \"softness\" column of the mango data."
   ]
  },
  {
   "cell_type": "code",
   "metadata": {
    "colab": {
     "base_uri": "https://localhost:8080/",
     "height": 331
    },
    "id": "DCo7MQVP-u4G",
    "outputId": "998b0106-e1df-4146-cb26-7d178d60fbeb",
    "ExecuteTime": {
     "end_time": "2025-09-13T20:45:04.665604Z",
     "start_time": "2025-09-13T20:45:04.662946Z"
    }
   },
   "source": [
    "mango_data[\"softness\"]"
   ],
   "outputs": [
    {
     "data": {
      "text/plain": [
       "0    4\n",
       "1    5\n",
       "2    3\n",
       "3    2\n",
       "4    1\n",
       "5    1\n",
       "6    1\n",
       "7    2\n",
       "Name: softness, dtype: int64"
      ]
     },
     "execution_count": 16,
     "metadata": {},
     "output_type": "execute_result"
    }
   ],
   "execution_count": 16
  },
  {
   "cell_type": "markdown",
   "metadata": {
    "id": "owqR5luF-ggl"
   },
   "source": [
    "Most Python operations and functions that work with sequences such as lists also work with Pandas dataframe columns.\n",
    "For example, you can compute the sum of a dataframe column using the `sum` function."
   ]
  },
  {
   "cell_type": "code",
   "metadata": {
    "colab": {
     "base_uri": "https://localhost:8080/"
    },
    "id": "3ZFCwWc2AiOX",
    "outputId": "e5295ddb-8967-420c-f831-c02a2786e9a1",
    "ExecuteTime": {
     "end_time": "2025-09-13T20:34:27.583200Z",
     "start_time": "2025-09-13T20:34:27.579997Z"
    }
   },
   "source": [
    "sum(mango_data[\"softness\"])"
   ],
   "outputs": [
    {
     "data": {
      "text/plain": [
       "19"
      ]
     },
     "execution_count": 5,
     "metadata": {},
     "output_type": "execute_result"
    }
   ],
   "execution_count": 5
  },
  {
   "cell_type": "markdown",
   "metadata": {
    "id": "ycQ7Tw8LApQY"
   },
   "source": [
    "Set `p1` to the average of the estimated sweetness column in the small mango data set."
   ]
  },
  {
   "cell_type": "code",
   "metadata": {
    "id": "WyNxML4oAvRh",
    "ExecuteTime": {
     "end_time": "2025-09-13T20:35:28.888702Z",
     "start_time": "2025-09-13T20:35:28.886595Z"
    }
   },
   "source": [
    "# YOUR CHANGES HERE\n",
    "\n",
    "p1 = np.average(mango_data[\"estimated_sweetness\"])"
   ],
   "outputs": [],
   "execution_count": 6
  },
  {
   "cell_type": "markdown",
   "metadata": {
    "id": "2RwFeLSyYYMp"
   },
   "source": [
    "Check the value of `p1`."
   ]
  },
  {
   "cell_type": "code",
   "metadata": {
    "colab": {
     "base_uri": "https://localhost:8080/"
    },
    "id": "FPvXKn0NAwRV",
    "outputId": "bcfface8-9ef1-410b-d459-b3dc23192f10",
    "ExecuteTime": {
     "end_time": "2025-09-13T20:35:30.408479Z",
     "start_time": "2025-09-13T20:35:30.406295Z"
    }
   },
   "source": [
    "p1"
   ],
   "outputs": [
    {
     "data": {
      "text/plain": [
       "np.float64(2.25)"
      ]
     },
     "execution_count": 7,
     "metadata": {},
     "output_type": "execute_result"
    }
   ],
   "execution_count": 7
  },
  {
   "cell_type": "markdown",
   "metadata": {
    "id": "7-cQDJv6b4VQ"
   },
   "source": [
    "### Problem 2\n",
    "\n",
    "Write a function `p2` that takes in an input number `x` and returns $3 x + 1$.\n",
    "\n",
    "(You can make any specific linear function this way, but it may only work on simpler input formats.)"
   ]
  },
  {
   "cell_type": "code",
   "metadata": {
    "ExecuteTime": {
     "end_time": "2025-09-13T20:37:28.522994Z",
     "start_time": "2025-09-13T20:37:28.521023Z"
    }
   },
   "source": [
    "# YOUR CHANGES HERE\n",
    "\n",
    "def p2(x):\n",
    "    return 3*x + 1\n",
    "\n",
    "print(p2(2))"
   ],
   "outputs": [
    {
     "name": "stdout",
     "output_type": "stream",
     "text": [
      "7\n"
     ]
    }
   ],
   "execution_count": 8
  },
  {
   "cell_type": "markdown",
   "metadata": {
    "id": "Ms5xuwJhBZGq"
   },
   "source": [
    "### Problem 3\n",
    "\n",
    "Plot the small mango data set using the estimated sweetness as the x axis and the rated flavor as the y axis.\n",
    "\n",
    "To do this, edit the line below that says\n",
    "```\n",
    "#p3 = plt.scatter(..., ...)\n",
    "```\n",
    "The first ellipsis should be replaced with the x data, and the second ellipsis should be replaced with the y data.\n",
    "After you do this, uncomment the line by removing the `#` character at the beginning.\n",
    "Make sure not to leave any extra spaces there."
   ]
  },
  {
   "cell_type": "code",
   "metadata": {
    "id": "iN_rB_QJBk_K",
    "ExecuteTime": {
     "end_time": "2025-09-13T21:00:15.395542Z",
     "start_time": "2025-09-13T21:00:15.329254Z"
    }
   },
   "source": [
    "# YOUR CHANGES HERE\n",
    "\n",
    "# uncomment the following line after filling in the data to be plotted.\n",
    "p3 = plt.scatter(mango_data[\"estimated_sweetness\"], mango_data[\"rated_flavor\"])\n",
    "\n",
    "plt.xlabel(\"Estimated Sweetness\")\n",
    "plt.ylabel(\"Rated Flavor\")\n",
    "plt.title(\"Rated Flavor vs Estimated Sweetness\")"
   ],
   "outputs": [
    {
     "data": {
      "text/plain": [
       "Text(0.5, 1.0, 'Rated Flavor vs Estimated Sweetness')"
      ]
     },
     "execution_count": 33,
     "metadata": {},
     "output_type": "execute_result"
    },
    {
     "data": {
      "text/plain": [
       "<Figure size 640x480 with 1 Axes>"
      ],
      "image/png": "[encoded data removed]"
     },
     "metadata": {},
     "output_type": "display_data"
    }
   ],
   "execution_count": 33
  },
  {
   "cell_type": "markdown",
   "metadata": {
    "id": "w_53DG2RDFco"
   },
   "source": [
    "### Problem 4\n",
    "\n",
    "The function `f4` implements a very simple linear function.\n",
    "`f4` takes in a dataframe and returns the \"estimated_sweetness\" column as its output.\n",
    "So $f_4(x) = 1.0 (\\mathrm{estimated~sweetness})$."
   ]
  },
  {
   "cell_type": "code",
   "metadata": {
    "id": "ZcUQ3mnBOLmU",
    "ExecuteTime": {
     "end_time": "2025-09-13T23:25:13.830439Z",
     "start_time": "2025-09-13T23:25:13.827828Z"
    }
   },
   "source": [
    "def f4(df):\n",
    "    # the rename here is not strictly necessary, but makes the output more clear below.\n",
    "    # without the rename, the column below would be called estimated_sweetness.\n",
    "    return df[\"estimated_sweetness\"].rename(\"prediction\")"
   ],
   "outputs": [],
   "execution_count": 26
  },
  {
   "cell_type": "code",
   "metadata": {
    "colab": {
     "base_uri": "https://localhost:8080/",
     "height": 331
    },
    "id": "oJKxyjM6OgHp",
    "outputId": "1a3cbaf5-6c95-41c4-a103-a62dce35cea0",
    "ExecuteTime": {
     "end_time": "2025-09-13T23:25:14.927516Z",
     "start_time": "2025-09-13T23:25:14.924202Z"
    }
   },
   "source": [
    "f4(mango_data)"
   ],
   "outputs": [
    {
     "data": {
      "text/plain": [
       "0    4\n",
       "1    5\n",
       "2    3\n",
       "3    1\n",
       "4    1\n",
       "5    1\n",
       "6    1\n",
       "7    2\n",
       "Name: prediction, dtype: int64"
      ]
     },
     "execution_count": 27,
     "metadata": {},
     "output_type": "execute_result"
    }
   ],
   "execution_count": 27
  },
  {
   "cell_type": "markdown",
   "metadata": {
    "id": "34OwchDmPVPz"
   },
   "source": [
    "Set `p4` to be the residuals from using `f4` as a model predicting the rated flavor column.\n",
    "The result should be a sequence of residuals, not a single number.\n",
    "\n",
    "A Python list, NumPy array, or pandas are all acceptable output types.\n",
    "Whatever output type you use, the order of outputs should match the order of rows in the mango data set."
   ]
  },
  {
   "cell_type": "code",
   "metadata": {
    "id": "CNL0vOHrDfmT",
    "ExecuteTime": {
     "end_time": "2025-09-13T23:25:16.844907Z",
     "start_time": "2025-09-13T23:25:16.842029Z"
    }
   },
   "source": [
    "# YOUR CHANGES HERE\n",
    "\n",
    "# residual = actual - predicted\n",
    "p4 = [x - f4(mango_data)[index] for index, x in enumerate(mango_data[\"rated_flavor\"])]"
   ],
   "outputs": [],
   "execution_count": 28
  },
  {
   "cell_type": "markdown",
   "metadata": {
    "id": "PlYpei17YeFQ"
   },
   "source": [
    "Check the values in `p4`."
   ]
  },
  {
   "cell_type": "code",
   "metadata": {
    "colab": {
     "base_uri": "https://localhost:8080/"
    },
    "id": "ne_0Q2RREfhz",
    "outputId": "2b198dd8-4e0a-4e6a-ad17-61502c93458d",
    "ExecuteTime": {
     "end_time": "2025-09-13T20:48:52.885457Z",
     "start_time": "2025-09-13T20:48:52.883337Z"
    }
   },
   "source": "print(p4)",
   "outputs": [
    {
     "name": "stdout",
     "output_type": "stream",
     "text": [
      "[np.int64(1), np.int64(-4), np.int64(0), np.int64(1), np.int64(0), np.int64(0), np.int64(0), np.int64(0)]\n"
     ]
    }
   ],
   "execution_count": 24
  },
  {
   "cell_type": "markdown",
   "metadata": {
    "id": "QDUw3_EnFnbY"
   },
   "source": [
    "### Problem 5\n",
    "\n",
    "The function `f5` is another linear function computing $f_5(x) = 0.8 (\\mathrm{yellow~rating}) + 0.2 (\\mathrm{softness})$.\n"
   ]
  },
  {
   "cell_type": "code",
   "metadata": {
    "id": "tI7Fr0blQFJo",
    "ExecuteTime": {
     "end_time": "2025-09-13T20:49:04.381750Z",
     "start_time": "2025-09-13T20:49:04.379881Z"
    }
   },
   "source": [
    "def f5(df):\n",
    "    return 0.8 * df[\"yellow_rating\"] + 0.2 * df[\"softness\"]"
   ],
   "outputs": [],
   "execution_count": 25
  },
  {
   "cell_type": "code",
   "metadata": {
    "colab": {
     "base_uri": "https://localhost:8080/",
     "height": 331
    },
    "id": "mi6H-RZxQTVz",
    "outputId": "ecfd6d3b-55b9-40d2-8f87-b4f673ba8062",
    "ExecuteTime": {
     "end_time": "2025-09-13T20:49:05.592925Z",
     "start_time": "2025-09-13T20:49:05.589111Z"
    }
   },
   "source": [
    "f5(mango_data)"
   ],
   "outputs": [
    {
     "data": {
      "text/plain": [
       "0    4.8\n",
       "1    5.0\n",
       "2    3.8\n",
       "3    2.8\n",
       "4    1.0\n",
       "5    1.8\n",
       "6    1.0\n",
       "7    2.8\n",
       "dtype: float64"
      ]
     },
     "execution_count": 26,
     "metadata": {},
     "output_type": "execute_result"
    }
   ],
   "execution_count": 26
  },
  {
   "cell_type": "markdown",
   "metadata": {
    "id": "Cu3pYOhERHt1"
   },
   "source": [
    "Set `p5` to be the $L_1$ loss of each row of data after using `f5` to predict the rated flavor column.\n",
    "The result should be a sequence of losses, not a single number.\n",
    "\n",
    "A Python list, NumPy array, or pandas are all acceptable output types.\n",
    "Whatever output type you use, the order of outputs should match the order of rows in the mango data set."
   ]
  },
  {
   "cell_type": "code",
   "metadata": {
    "id": "zvIjSLCdGbZM",
    "ExecuteTime": {
     "end_time": "2025-09-13T21:00:12.084449Z",
     "start_time": "2025-09-13T21:00:12.080633Z"
    }
   },
   "source": [
    "# YOUR CHANGES HERE\n",
    "def l1_loss(y_true, y_pred):\n",
    "    return np.abs(y_true - y_pred)\n",
    "\n",
    "arr = []\n",
    "for index, y_true in enumerate(mango_data[\"rated_flavor\"]):\n",
    "    y_pred = f5(mango_data)[index]\n",
    "    arr.append(l1_loss(y_true, y_pred))\n",
    "\n",
    "p5 = arr"
   ],
   "outputs": [],
   "execution_count": 32
  },
  {
   "cell_type": "markdown",
   "metadata": {
    "id": "Pz9yaOncYu1n"
   },
   "source": [
    "Check the values in `p5`."
   ]
  },
  {
   "cell_type": "code",
   "metadata": {
    "id": "j8QCAkWMGdkv",
    "ExecuteTime": {
     "end_time": "2025-09-13T21:00:16.720173Z",
     "start_time": "2025-09-13T21:00:16.716898Z"
    }
   },
   "source": [
    "p5"
   ],
   "outputs": [
    {
     "data": {
      "text/plain": [
       "[np.float64(0.20000000000000018),\n",
       " np.float64(4.0),\n",
       " np.float64(0.8000000000000003),\n",
       " np.float64(0.8000000000000003),\n",
       " np.float64(0.0),\n",
       " np.float64(0.8),\n",
       " np.float64(0.0),\n",
       " np.float64(0.8000000000000003)]"
      ]
     },
     "execution_count": 34,
     "metadata": {},
     "output_type": "execute_result"
    }
   ],
   "execution_count": 34
  },
  {
   "cell_type": "markdown",
   "metadata": {
    "id": "LE2GZpTZEjfL"
   },
   "source": [
    "### Problem 6\n",
    "\n",
    "The function `f6` is a linear function computing $f_6(x) = 1.2 (\\mathrm{yellow~rating}) - 0.1 (\\mathrm{green~rating}) - 0.1 (\\mathrm{wrinkles})$."
   ]
  },
  {
   "cell_type": "code",
   "metadata": {
    "id": "7O7AReMcTCEJ",
    "ExecuteTime": {
     "end_time": "2025-09-13T21:01:00.995067Z",
     "start_time": "2025-09-13T21:01:00.992914Z"
    }
   },
   "source": [
    "def f6(df):\n",
    "    return 1.2 * df[\"yellow_rating\"] - 0.1 * df[\"green_rating\"] - 0.1 * df[\"wrinkles\"]"
   ],
   "outputs": [],
   "execution_count": 35
  },
  {
   "cell_type": "code",
   "metadata": {
    "colab": {
     "base_uri": "https://localhost:8080/",
     "height": 331
    },
    "id": "iivt-s3TTg0o",
    "outputId": "2c11280a-d08d-4eab-9444-493fda0062a9",
    "ExecuteTime": {
     "end_time": "2025-09-13T21:01:02.016929Z",
     "start_time": "2025-09-13T21:01:02.012834Z"
    }
   },
   "source": [
    "f6(mango_data)"
   ],
   "outputs": [
    {
     "data": {
      "text/plain": [
       "0    5.9\n",
       "1    5.8\n",
       "2    4.5\n",
       "3    3.3\n",
       "4    0.6\n",
       "5    1.9\n",
       "6    0.6\n",
       "7    3.2\n",
       "dtype: float64"
      ]
     },
     "execution_count": 36,
     "metadata": {},
     "output_type": "execute_result"
    }
   ],
   "execution_count": 36
  },
  {
   "cell_type": "markdown",
   "metadata": {
    "id": "lUz_du4qSOEa"
   },
   "source": [
    "Set `p6` to be the average $L_2$ loss using `f6` to predict the rated flavor column.\n",
    "\n",
    "**Note that the average $L_2$ loss was requested.**\n",
    "Some of the videos this week calculated the sum of $L_2$ losses instead."
   ]
  },
  {
   "cell_type": "code",
   "metadata": {
    "id": "P-KRYZurHBQY",
    "ExecuteTime": {
     "end_time": "2025-09-13T21:14:40.894859Z",
     "start_time": "2025-09-13T21:14:40.890771Z"
    }
   },
   "source": [
    "# YOUR CHANGES HERE\n",
    "def l2_loss(y_true, y_pred):\n",
    "    return np.mean((y_true - y_pred) ** 2)\n",
    "\n",
    "p6 = l2_loss(mango_data[\"rated_flavor\"], f6(mango_data))\n",
    "print(p6)\n",
    "\n",
    "def l2_loss_no_mean(y_true, y_pred):\n",
    "    return (y_true - y_pred) ** 2\n",
    "\n",
    "arr = []\n",
    "for index, y_true in enumerate(mango_data[\"rated_flavor\"]):\n",
    "    y_pred = f6(mango_data)[index]\n",
    "    arr.append(l2_loss_no_mean(y_true, y_pred))\n",
    "\n",
    "p6_b = np.mean(arr)\n",
    "print(p6_b)"
   ],
   "outputs": [
    {
     "name": "stdout",
     "output_type": "stream",
     "text": [
      "3.795000000000001\n",
      "3.795000000000001\n"
     ]
    }
   ],
   "execution_count": 49
  },
  {
   "cell_type": "markdown",
   "metadata": {
    "id": "KUlORPfEYk7M"
   },
   "source": [
    "Check the value of `p6`."
   ]
  },
  {
   "cell_type": "code",
   "metadata": {
    "id": "vxJZcCrlHDGY",
    "ExecuteTime": {
     "end_time": "2025-09-13T21:14:48.883002Z",
     "start_time": "2025-09-13T21:14:48.880339Z"
    }
   },
   "source": [
    "p6"
   ],
   "outputs": [
    {
     "data": {
      "text/plain": [
       "np.float64(3.795000000000001)"
      ]
     },
     "execution_count": 50,
     "metadata": {},
     "output_type": "execute_result"
    }
   ],
   "execution_count": 50
  },
  {
   "cell_type": "markdown",
   "metadata": {
    "id": "D5X3FDxqUviA"
   },
   "source": [
    "### Problem 7\n",
    "\n",
    "Write a function `p7` taking in a dataframe like the mangos data, and returning the \"estimated_flavor\" column as its predictions.\n",
    "(This should be similar to the predictions in Problem 3.)"
   ]
  },
  {
   "cell_type": "code",
   "metadata": {
    "id": "d65RLeqxVGeL",
    "ExecuteTime": {
     "end_time": "2025-09-13T21:20:06.459732Z",
     "start_time": "2025-09-13T21:20:06.457863Z"
    }
   },
   "source": [
    "# YOUR CHANGES HERE\n",
    "\n",
    "def p7(df):\n",
    "    return df[\"estimated_flavor\"].rename(\"prediction\")"
   ],
   "outputs": [],
   "execution_count": 2
  },
  {
   "cell_type": "markdown",
   "metadata": {
    "id": "HtERTs1SVJVU"
   },
   "source": [
    "Check the output of p7 on the mango data set."
   ]
  },
  {
   "cell_type": "code",
   "metadata": {
    "id": "ihAvfuV4VMLS",
    "ExecuteTime": {
     "end_time": "2025-09-13T21:20:30.598041Z",
     "start_time": "2025-09-13T21:20:30.594962Z"
    }
   },
   "source": [
    "p7(mango_data)"
   ],
   "outputs": [
    {
     "data": {
      "text/plain": [
       "0    4\n",
       "1    5\n",
       "2    3\n",
       "3    2\n",
       "4    1\n",
       "5    1\n",
       "6    2\n",
       "7    2\n",
       "Name: prediction, dtype: int64"
      ]
     },
     "execution_count": 6,
     "metadata": {},
     "output_type": "execute_result"
    }
   ],
   "execution_count": 6
  },
  {
   "cell_type": "markdown",
   "metadata": {
    "id": "CScvFUGCTzbL"
   },
   "source": [
    "### Problem 8\n",
    "\n",
    "Set `p8` to be the average $L_2$ loss using the \"yellow_rating\" column to predict the \"rated_flavor\" column as in Problem 3."
   ]
  },
  {
   "cell_type": "code",
   "metadata": {
    "id": "88Ip7dA5TyQg",
    "ExecuteTime": {
     "end_time": "2025-09-13T21:22:37.171314Z",
     "start_time": "2025-09-13T21:22:37.169208Z"
    }
   },
   "source": [
    "# YOUR CHANGES HERE\n",
    "def l2_loss(y_true, y_pred):\n",
    "    return np.mean((y_true - y_pred) ** 2)\n",
    "\n",
    "p8 = l2_loss(mango_data[\"rated_flavor\"], mango_data[\"yellow_rating\"])"
   ],
   "outputs": [],
   "execution_count": 7
  },
  {
   "cell_type": "markdown",
   "metadata": {
    "id": "vi5zmmr3UJum"
   },
   "source": [
    "Check the value of `p8`."
   ]
  },
  {
   "cell_type": "code",
   "metadata": {
    "id": "xXCnP3iTULWw",
    "ExecuteTime": {
     "end_time": "2025-09-13T21:22:38.417956Z",
     "start_time": "2025-09-13T21:22:38.415440Z"
    }
   },
   "source": [
    "p8"
   ],
   "outputs": [
    {
     "data": {
      "text/plain": [
       "np.float64(2.5)"
      ]
     },
     "execution_count": 8,
     "metadata": {},
     "output_type": "execute_result"
    }
   ],
   "execution_count": 8
  },
  {
   "cell_type": "markdown",
   "metadata": {
    "id": "rraV_8bHWTXl"
   },
   "source": [
    "### Problem 9\n",
    "\n",
    "Write a function `p9` taking in a dataframe returning the results of $0.5 (\\mathrm{yellow~rating}) + 0.4 (\\mathrm{estimated~flavor})$."
   ]
  },
  {
   "cell_type": "code",
   "metadata": {
    "id": "MC-XVY3IWz3x",
    "ExecuteTime": {
     "end_time": "2025-09-13T21:23:30.339480Z",
     "start_time": "2025-09-13T21:23:30.337195Z"
    }
   },
   "source": [
    "# YOUR CHANGES HERE\n",
    "\n",
    "def p9(df):\n",
    "    return 0.5*(df[\"yellow_rating\"]) + 0.4*(df[\"estimated_flavor\"])"
   ],
   "outputs": [],
   "execution_count": 9
  },
  {
   "cell_type": "markdown",
   "metadata": {
    "id": "_IbItU5tW2-w"
   },
   "source": [
    "Check the output of `p9` with the mango data set."
   ]
  },
  {
   "cell_type": "code",
   "metadata": {
    "colab": {
     "base_uri": "https://localhost:8080/"
    },
    "id": "leKBoYh_W5Pa",
    "outputId": "554d9db2-28cc-4026-8e02-1133b6ccce41",
    "ExecuteTime": {
     "end_time": "2025-09-13T21:23:32.242902Z",
     "start_time": "2025-09-13T21:23:32.239751Z"
    }
   },
   "source": [
    "p9(mango_data)"
   ],
   "outputs": [
    {
     "data": {
      "text/plain": [
       "0    4.1\n",
       "1    4.5\n",
       "2    3.2\n",
       "3    2.3\n",
       "4    0.9\n",
       "5    1.4\n",
       "6    1.3\n",
       "7    2.3\n",
       "dtype: float64"
      ]
     },
     "execution_count": 10,
     "metadata": {},
     "output_type": "execute_result"
    }
   ],
   "execution_count": 10
  },
  {
   "cell_type": "markdown",
   "metadata": {
    "id": "ZwMZcSkdW8nO"
   },
   "source": [
    "### Problem 10\n",
    "\n",
    "Set `p10` to be the average $L_1$ loss using the prediction $0.3 (\\mathrm{yellow~rating}) + 0.1(\\mathrm{softness}) + 0.4(\\mathrm{estimated~sweetness})$ for the mango data set's rated flavor column."
   ]
  },
  {
   "cell_type": "code",
   "metadata": {
    "id": "J3emV8dqXlgN",
    "ExecuteTime": {
     "end_time": "2025-09-13T21:26:46.602569Z",
     "start_time": "2025-09-13T21:26:46.600084Z"
    }
   },
   "source": [
    "# YOUR CHANGES HERE\n",
    "\n",
    "def l1_loss(y_true, y_pred):\n",
    "    return np.mean(np.abs(y_true - y_pred))\n",
    "\n",
    "def calc_y_pred(df):\n",
    "    return 0.3*df[\"yellow_rating\"] + 0.1*df[\"softness\"] + 0.4*df[\"estimated_sweetness\"]\n",
    "\n",
    "p10 = l1_loss(mango_data[\"rated_flavor\"], calc_y_pred(mango_data))"
   ],
   "outputs": [],
   "execution_count": 11
  },
  {
   "cell_type": "markdown",
   "metadata": {
    "id": "QkcC4ULtXm2o"
   },
   "source": [
    "Check the value of `p10`."
   ]
  },
  {
   "cell_type": "code",
   "metadata": {
    "id": "64OoS_GZXogM",
    "ExecuteTime": {
     "end_time": "2025-09-13T21:26:47.935818Z",
     "start_time": "2025-09-13T21:26:47.933546Z"
    }
   },
   "source": [
    "p10"
   ],
   "outputs": [
    {
     "data": {
      "text/plain": [
       "np.float64(0.7375)"
      ]
     },
     "execution_count": 12,
     "metadata": {},
     "output_type": "execute_result"
    }
   ],
   "execution_count": 12
  },
  {
   "cell_type": "markdown",
   "metadata": {},
   "source": [
    "### Problem 11\n",
    "\n",
    "Build a linear regression for the mango rated flavor column using just the estimated flavor column.\n",
    "Set `p11` to the prediction of this model when the estimated flavor value is 3."
   ]
  },
  {
   "cell_type": "code",
   "metadata": {
    "ExecuteTime": {
     "end_time": "2025-09-13T23:14:42.246634Z",
     "start_time": "2025-09-13T23:14:42.242546Z"
    }
   },
   "source": [
    "# YOUR CHANGES HERE\n",
    "from sklearn.linear_model import LinearRegression\n",
    "\n",
    "# we want to predict the rated_flavor using the estimated_flavor\n",
    "# X_train requires a 2-D array\n",
    "X_train = mango_data[[\"estimated_flavor\"]]\n",
    "y_train = mango_data[\"rated_flavor\"]\n",
    "\n",
    "model = LinearRegression()\n",
    "model.fit(X_train, y_train)\n",
    "\n",
    "df_pred_for_3 = pd.DataFrame({\"estimated_flavor\": [3]})\n",
    "\n",
    "p11 = model.predict(df_pred_for_3)[0]"
   ],
   "outputs": [],
   "execution_count": 16
  },
  {
   "cell_type": "markdown",
   "metadata": {},
   "source": [
    "Check the value of `p11`."
   ]
  },
  {
   "cell_type": "code",
   "metadata": {
    "ExecuteTime": {
     "end_time": "2025-09-13T23:14:44.822966Z",
     "start_time": "2025-09-13T23:14:44.820713Z"
    }
   },
   "source": [
    "p11"
   ],
   "outputs": [
    {
     "data": {
      "text/plain": [
       "np.float64(2.2142857142857144)"
      ]
     },
     "execution_count": 17,
     "metadata": {},
     "output_type": "execute_result"
    }
   ],
   "execution_count": 17
  },
  {
   "cell_type": "markdown",
   "metadata": {},
   "source": [
    "### Problem 12\n",
    "\n",
    "Build a linear regression for the mango rated flavor column using just the yellow rating column.\n",
    "Set `p12` to the additive constant in the linear equation.\n",
    "\n",
    "You can look at the videos or code examples to see how to get the additive constant depending how you built the model, or evaluate your model with all zero inputs."
   ]
  },
  {
   "cell_type": "code",
   "metadata": {
    "ExecuteTime": {
     "end_time": "2025-09-13T23:21:27.840070Z",
     "start_time": "2025-09-13T23:21:27.837174Z"
    }
   },
   "source": [
    "# YOUR CHANGES HERE\n",
    "from sklearn.linear_model import LinearRegression\n",
    "\n",
    "# we want to predict the rated_flavor using the yellow_rating\n",
    "X_train = mango_data[[\"yellow_rating\"]]\n",
    "y_train = mango_data[\"rated_flavor\"]\n",
    "\n",
    "model = LinearRegression()\n",
    "model.fit(X_train, y_train)\n",
    "\n",
    "p12 = model.intercept_"
   ],
   "outputs": [],
   "execution_count": 18
  },
  {
   "cell_type": "markdown",
   "metadata": {},
   "source": [
    "Check the value of `p12`."
   ]
  },
  {
   "cell_type": "code",
   "metadata": {
    "ExecuteTime": {
     "end_time": "2025-09-13T23:21:29.403853Z",
     "start_time": "2025-09-13T23:21:29.401153Z"
    }
   },
   "source": [
    "p12"
   ],
   "outputs": [
    {
     "data": {
      "text/plain": [
       "np.float64(0.33333333333333304)"
      ]
     },
     "execution_count": 19,
     "metadata": {},
     "output_type": "execute_result"
    }
   ],
   "execution_count": 19
  },
  {
   "cell_type": "markdown",
   "metadata": {},
   "source": [
    "### Problem 13\n",
    "\n",
    "Build a linear regression for the mango rated flavor column using just the yellow rating column.\n",
    "(You can reuse the regression built for problem 12.)\n",
    "Set `p13` to the coefficient of the yellow rating value in the linear equation.\n",
    "\n",
    "You can look at the videos or code examples to see how to get coefficient, or you may be able to deduce it with a couple evaluations of the model (e.g. $f(1) - f(0)$)."
   ]
  },
  {
   "cell_type": "code",
   "metadata": {
    "ExecuteTime": {
     "end_time": "2025-09-13T23:23:11.577631Z",
     "start_time": "2025-09-13T23:23:11.575801Z"
    }
   },
   "source": [
    "# YOUR CHANGES HERE\n",
    "\n",
    "p13 = model.coef_[0]"
   ],
   "outputs": [],
   "execution_count": 22
  },
  {
   "cell_type": "markdown",
   "metadata": {},
   "source": [
    "Check the value of `p13`."
   ]
  },
  {
   "cell_type": "code",
   "metadata": {
    "ExecuteTime": {
     "end_time": "2025-09-13T23:23:15.283474Z",
     "start_time": "2025-09-13T23:23:15.281026Z"
    }
   },
   "source": [
    "p13"
   ],
   "outputs": [
    {
     "data": {
      "text/plain": [
       "np.float64(0.5555555555555557)"
      ]
     },
     "execution_count": 24,
     "metadata": {},
     "output_type": "execute_result"
    }
   ],
   "execution_count": 24
  },
  {
   "cell_type": "markdown",
   "metadata": {
    "id": "-W9vt7g7Y_-_"
   },
   "source": [
    "### Problem 14\n",
    "\n",
    "Set `p14` to be the sample variance of the rated flavors in the mango data set."
   ]
  },
  {
   "cell_type": "code",
   "metadata": {
    "id": "W1tI40DQZJTZ",
    "ExecuteTime": {
     "end_time": "2025-09-13T23:26:06.145282Z",
     "start_time": "2025-09-13T23:26:06.143582Z"
    }
   },
   "source": [
    "# YOUR CHANGES HERE\n",
    "\n",
    "p14 = mango_data[\"rated_flavor\"].var()"
   ],
   "outputs": [],
   "execution_count": 29
  },
  {
   "cell_type": "markdown",
   "metadata": {},
   "source": [
    "Check the value of `p14`."
   ]
  },
  {
   "cell_type": "code",
   "metadata": {
    "ExecuteTime": {
     "end_time": "2025-09-13T23:26:07.205934Z",
     "start_time": "2025-09-13T23:26:07.203294Z"
    }
   },
   "source": [
    "p14"
   ],
   "outputs": [
    {
     "data": {
      "text/plain": [
       "np.float64(2.0)"
      ]
     },
     "execution_count": 30,
     "metadata": {},
     "output_type": "execute_result"
    }
   ],
   "execution_count": 30
  },
  {
   "cell_type": "markdown",
   "metadata": {
    "id": "dgmtpHkbZK6S"
   },
   "source": [
    "### Problem 15\n",
    "\n",
    "Set `p15` to be the means of each column of the mango data set.\n",
    "Your output should be a sequence of the means in the same order as the columns of the mango data set.\n",
    "\n",
    "You can calculate this however you like with just Python, NumPy's [numpy.mean](), or pandas' [pandas.DataFrame.mean](https://pandas.pydata.org/pandas-docs/stable/reference/api/pandas.DataFrame.mean.html) method.\n",
    "We suggest trying the pandas method for your own convenience.\n"
   ]
  },
  {
   "cell_type": "code",
   "metadata": {
    "id": "_1Ty-1wxaKgp",
    "ExecuteTime": {
     "end_time": "2025-09-13T23:28:07.766135Z",
     "start_time": "2025-09-13T23:28:07.763952Z"
    }
   },
   "source": [
    "# YOUR CHANGES HERE\n",
    "column_means = mango_data.mean()\n",
    "\n",
    "p15 = column_means"
   ],
   "outputs": [],
   "execution_count": 32
  },
  {
   "cell_type": "markdown",
   "metadata": {},
   "source": [
    "Check the values in `p15`."
   ]
  },
  {
   "cell_type": "code",
   "metadata": {
    "ExecuteTime": {
     "end_time": "2025-09-13T23:28:09.112623Z",
     "start_time": "2025-09-13T23:28:09.109832Z"
    }
   },
   "source": [
    "p15"
   ],
   "outputs": [
    {
     "data": {
      "text/plain": [
       "green_rating           3.000\n",
       "yellow_rating          3.000\n",
       "softness               2.375\n",
       "wrinkles               0.750\n",
       "estimated_flavor       2.500\n",
       "estimated_sweetness    2.250\n",
       "rated_flavor           2.000\n",
       "dtype: float64"
      ]
     },
     "execution_count": 33,
     "metadata": {},
     "output_type": "execute_result"
    }
   ],
   "execution_count": 33
  },
  {
   "cell_type": "markdown",
   "metadata": {
    "id": "ffYsVqOrapLr"
   },
   "source": [
    "### Problem 16\n",
    "\n",
    "Given the following three functions,\n",
    "\n",
    "* $f_a(x) = 1.0 (\\mathrm{yellow~rating})$\n",
    "* $f_b(x) = 0.4 (\\mathrm{yellow~rating}) + 0.6 (\\mathrm{estimated~sweetness})$\n",
    "* $f_c(x) = 0.4 (\\mathrm{yellow~rating}) + 0.2 (\\mathrm{softness}) + 0.3 (\\mathrm{estimated~sweetness})$\n",
    "\n",
    "set `p16` to `\"a\"`, `\"b\"`, or `\"c\"` to indicate which one has the lowest $L_1$ loss predicting the rated flavor column.\n"
   ]
  },
  {
   "cell_type": "code",
   "metadata": {
    "id": "78iwN5f4bKtS",
    "ExecuteTime": {
     "end_time": "2025-09-13T23:30:50.106827Z",
     "start_time": "2025-09-13T23:30:50.104942Z"
    }
   },
   "source": [
    "# YOUR CHANGES HERE\n",
    "\n",
    "p16 = \"c\""
   ],
   "outputs": [],
   "execution_count": 34
  },
  {
   "cell_type": "markdown",
   "metadata": {
    "id": "kiCe_P5ubjnR"
   },
   "source": [
    "### Problem 17\n",
    "\n",
    "Load the data file \"f17.tsv\" and set `p17` to be a sequence of the means of each column."
   ]
  },
  {
   "cell_type": "code",
   "metadata": {
    "id": "ve2czA0Ebzdf",
    "ExecuteTime": {
     "end_time": "2025-09-13T23:31:48.300667Z",
     "start_time": "2025-09-13T23:31:48.295534Z"
    }
   },
   "source": [
    "# YOUR CHANGES HERE\n",
    "\n",
    "p17_file = pd.read_csv(\"f17.tsv\", sep=\"\\t\")\n",
    "p17 = p17_file.mean()\n",
    "p17"
   ],
   "outputs": [
    {
     "data": {
      "text/plain": [
       "a    0.507912\n",
       "b    0.475160\n",
       "c    0.434010\n",
       "d    0.504815\n",
       "e    0.516061\n",
       "f    0.496363\n",
       "dtype: float64"
      ]
     },
     "execution_count": 35,
     "metadata": {},
     "output_type": "execute_result"
    }
   ],
   "execution_count": 35
  },
  {
   "cell_type": "markdown",
   "metadata": {
    "id": "rJlcKEafaIZu"
   },
   "source": [
    "### Problem 18\n",
    "\n",
    "Set `p18` to be the $R^2$ value of the function `f18` predicting the rated flavor for the mango data set."
   ]
  },
  {
   "cell_type": "code",
   "metadata": {
    "id": "pqbMFuUpaj5m",
    "ExecuteTime": {
     "end_time": "2025-09-13T23:46:13.341404Z",
     "start_time": "2025-09-13T23:46:13.339232Z"
    }
   },
   "source": [
    "def f18(df):\n",
    "    return 0.7 * df[\"estimated_flavor\"]"
   ],
   "outputs": [],
   "execution_count": 37
  },
  {
   "cell_type": "code",
   "metadata": {
    "id": "JbEO9iX4VwQG",
    "ExecuteTime": {
     "end_time": "2025-09-14T00:13:08.340770Z",
     "start_time": "2025-09-14T00:13:08.337479Z"
    }
   },
   "source": [
    "# YOUR CHANGES HERE\n",
    "\n",
    "# rated_flavor is true value\n",
    "# f18 is prediction\n",
    "\n",
    "def r_squared(y_true, y_pred):\n",
    "    rss = np.sum((y_true - y_pred) ** 2)\n",
    "    tss = np.sum((y_true - np.mean(y_true)) ** 2)\n",
    "    return 1 - (rss / tss)\n",
    "\n",
    "p18 = r_squared(mango_data[\"rated_flavor\"], f18(mango_data))\n",
    "p18"
   ],
   "outputs": [
    {
     "data": {
      "text/plain": [
       "np.float64(0.07428571428571418)"
      ]
     },
     "execution_count": 57,
     "metadata": {},
     "output_type": "execute_result"
    }
   ],
   "execution_count": 57
  },
  {
   "cell_type": "markdown",
   "metadata": {
    "id": "_5SxtVnlcFWd"
   },
   "source": [
    "### Problem 19\n",
    "\n",
    "Set `p19` to be the average $L_2$ loss of using `f19` to predict the rated flavor of the mango data set.\n",
    "\n",
    "`f19` is not linear, but this should not affect your loss calculation."
   ]
  },
  {
   "cell_type": "code",
   "metadata": {
    "id": "Ri6AjxYpcZol",
    "ExecuteTime": {
     "end_time": "2025-09-13T23:47:51.614751Z",
     "start_time": "2025-09-13T23:47:51.612571Z"
    }
   },
   "source": [
    "def f19(df):\n",
    "    return (df[\"yellow_rating\"] ** 2) / 10 + df[\"estimated_sweetness\"] * 0.5"
   ],
   "outputs": [],
   "execution_count": 41
  },
  {
   "cell_type": "code",
   "metadata": {
    "colab": {
     "base_uri": "https://localhost:8080/"
    },
    "id": "vHMUl4L6cnD4",
    "outputId": "5139bc4c-f55a-49b7-ddfb-e65ca1d36d1d",
    "ExecuteTime": {
     "end_time": "2025-09-13T23:47:52.656929Z",
     "start_time": "2025-09-13T23:47:52.652636Z"
    }
   },
   "source": [
    "# YOUR CHANGES HERE\n",
    "\n",
    "def l2_loss(y_true, y_pred):\n",
    "    return np.mean((y_true - y_pred) ** 2)\n",
    "\n",
    "p19 = l2_loss(mango_data[\"rated_flavor\"], f19(mango_data))"
   ],
   "outputs": [
    {
     "data": {
      "text/plain": [
       "np.float64(2.12)"
      ]
     },
     "execution_count": 42,
     "metadata": {},
     "output_type": "execute_result"
    }
   ],
   "execution_count": 42
  },
  {
   "cell_type": "markdown",
   "metadata": {},
   "source": [
    "Check the value of `p19`."
   ]
  },
  {
   "cell_type": "code",
   "metadata": {
    "ExecuteTime": {
     "end_time": "2025-09-13T23:48:00.556438Z",
     "start_time": "2025-09-13T23:48:00.554101Z"
    }
   },
   "source": [
    "p19"
   ],
   "outputs": [
    {
     "data": {
      "text/plain": [
       "np.float64(2.12)"
      ]
     },
     "execution_count": 44,
     "metadata": {},
     "output_type": "execute_result"
    }
   ],
   "execution_count": 44
  },
  {
   "cell_type": "markdown",
   "metadata": {},
   "source": [
    "### Problem 20\n",
    "\n",
    "Build a linear regression for the mango rated flavor column using all the other columns as inputs.\n",
    "Set `p20` to the column with the highest positive coefficient.\n",
    "(`p20` should be a string with the name of the column.)"
   ]
  },
  {
   "cell_type": "code",
   "metadata": {
    "ExecuteTime": {
     "end_time": "2025-09-13T23:51:14.901583Z",
     "start_time": "2025-09-13T23:51:14.897146Z"
    }
   },
   "source": [
    "mango_inputs = mango_data.drop(\"rated_flavor\", axis=1)\n",
    "mango_inputs"
   ],
   "outputs": [
    {
     "data": {
      "text/plain": [
       "   green_rating  yellow_rating  softness  wrinkles  estimated_flavor  \\\n",
       "0             1              5         4         0                 4   \n",
       "1             1              5         5         1                 5   \n",
       "2             2              4         3         1                 3   \n",
       "3             3              3         2         0                 2   \n",
       "4             5              1         1         1                 1   \n",
       "5             4              2         1         1                 1   \n",
       "6             5              1         1         1                 2   \n",
       "7             3              3         2         1                 2   \n",
       "\n",
       "   estimated_sweetness  \n",
       "0                    4  \n",
       "1                    5  \n",
       "2                    3  \n",
       "3                    1  \n",
       "4                    1  \n",
       "5                    1  \n",
       "6                    1  \n",
       "7                    2  "
      ],
      "text/html": [
       "<div>\n",
       "<style scoped>\n",
       "    .dataframe tbody tr th:only-of-type {\n",
       "        vertical-align: middle;\n",
       "    }\n",
       "\n",
       "    .dataframe tbody tr th {\n",
       "        vertical-align: top;\n",
       "    }\n",
       "\n",
       "    .dataframe thead th {\n",
       "        text-align: right;\n",
       "    }\n",
       "</style>\n",
       "<table border=\"1\" class=\"dataframe\">\n",
       "  <thead>\n",
       "    <tr style=\"text-align: right;\">\n",
       "      <th></th>\n",
       "      <th>green_rating</th>\n",
       "      <th>yellow_rating</th>\n",
       "      <th>softness</th>\n",
       "      <th>wrinkles</th>\n",
       "      <th>estimated_flavor</th>\n",
       "      <th>estimated_sweetness</th>\n",
       "    </tr>\n",
       "  </thead>\n",
       "  <tbody>\n",
       "    <tr>\n",
       "      <th>0</th>\n",
       "      <td>1</td>\n",
       "      <td>5</td>\n",
       "      <td>4</td>\n",
       "      <td>0</td>\n",
       "      <td>4</td>\n",
       "      <td>4</td>\n",
       "    </tr>\n",
       "    <tr>\n",
       "      <th>1</th>\n",
       "      <td>1</td>\n",
       "      <td>5</td>\n",
       "      <td>5</td>\n",
       "      <td>1</td>\n",
       "      <td>5</td>\n",
       "      <td>5</td>\n",
       "    </tr>\n",
       "    <tr>\n",
       "      <th>2</th>\n",
       "      <td>2</td>\n",
       "      <td>4</td>\n",
       "      <td>3</td>\n",
       "      <td>1</td>\n",
       "      <td>3</td>\n",
       "      <td>3</td>\n",
       "    </tr>\n",
       "    <tr>\n",
       "      <th>3</th>\n",
       "      <td>3</td>\n",
       "      <td>3</td>\n",
       "      <td>2</td>\n",
       "      <td>0</td>\n",
       "      <td>2</td>\n",
       "      <td>1</td>\n",
       "    </tr>\n",
       "    <tr>\n",
       "      <th>4</th>\n",
       "      <td>5</td>\n",
       "      <td>1</td>\n",
       "      <td>1</td>\n",
       "      <td>1</td>\n",
       "      <td>1</td>\n",
       "      <td>1</td>\n",
       "    </tr>\n",
       "    <tr>\n",
       "      <th>5</th>\n",
       "      <td>4</td>\n",
       "      <td>2</td>\n",
       "      <td>1</td>\n",
       "      <td>1</td>\n",
       "      <td>1</td>\n",
       "      <td>1</td>\n",
       "    </tr>\n",
       "    <tr>\n",
       "      <th>6</th>\n",
       "      <td>5</td>\n",
       "      <td>1</td>\n",
       "      <td>1</td>\n",
       "      <td>1</td>\n",
       "      <td>2</td>\n",
       "      <td>1</td>\n",
       "    </tr>\n",
       "    <tr>\n",
       "      <th>7</th>\n",
       "      <td>3</td>\n",
       "      <td>3</td>\n",
       "      <td>2</td>\n",
       "      <td>1</td>\n",
       "      <td>2</td>\n",
       "      <td>2</td>\n",
       "    </tr>\n",
       "  </tbody>\n",
       "</table>\n",
       "</div>"
      ]
     },
     "execution_count": 46,
     "metadata": {},
     "output_type": "execute_result"
    }
   ],
   "execution_count": 46
  },
  {
   "cell_type": "code",
   "metadata": {
    "ExecuteTime": {
     "end_time": "2025-09-13T23:53:57.365762Z",
     "start_time": "2025-09-13T23:53:57.362217Z"
    }
   },
   "source": [
    "# YOUR CHANGES HERE\n",
    "\n",
    "# we want to predict rated_flavor using other columns\n",
    "X_train = mango_inputs\n",
    "y_train = mango_data[\"rated_flavor\"]\n",
    "\n",
    "model = LinearRegression()\n",
    "model.fit(X_train, y_train)\n",
    "\n",
    "coefficients = model.coef_\n",
    "column_names = mango_data.columns\n",
    "\n",
    "for col_name, coef in zip(column_names, coefficients):\n",
    "    print(f\"{col_name}: {coef}\")"
   ],
   "outputs": [
    {
     "name": "stdout",
     "output_type": "stream",
     "text": [
      "green_rating: -0.5999999999999998\n",
      "yellow_rating: 0.5999999999999988\n",
      "softness: -3.999999999999998\n",
      "wrinkles: -2.6000000000000005\n",
      "estimated_flavor: 0.40000000000000013\n",
      "estimated_sweetness: 2.5999999999999996\n"
     ]
    }
   ],
   "execution_count": 48
  },
  {
   "cell_type": "markdown",
   "metadata": {},
   "source": [
    "Check the value of `p20`."
   ]
  },
  {
   "cell_type": "code",
   "metadata": {
    "ExecuteTime": {
     "end_time": "2025-09-13T23:54:16.446928Z",
     "start_time": "2025-09-13T23:54:16.445037Z"
    }
   },
   "source": "p20 = \"estimated_sweetness\"",
   "outputs": [],
   "execution_count": 49
  },
  {
   "cell_type": "markdown",
   "metadata": {},
   "source": [
    "### Generative AI Usage\n",
    "\n",
    "If you used any generative AI tools, please add links to your transcripts below, and any other information that you feel is necessary to comply with the [generative AI policy](https://www.bu.edu/cds-faculty/culture-community/gaia-policy/).\n",
    "If you did not use any generative AI tools, simply write NONE below."
   ]
  },
  {
   "cell_type": "markdown",
   "metadata": {},
   "source": [
    "YOUR ANSWER HERE\n",
    "\n",
    "Problem 6\n",
    "* Used to help me debug. I realized the naming is off, my logic was correct.\n",
    "* https://chatgpt.com/share/68c5df07-df8c-800d-ba68-b2dbc5ecc486\n",
    "\n",
    "Problem 11\n",
    "* I was confused as to what the problem was asking. Once I understood I queried more to see the difference between numpy and pandas for the best practice when using model.predict.\n",
    "* https://chatgpt.com/share/68c5fb4f-e110-800d-9209-3f8197c08a40\n",
    "\n",
    "Problem 18\n",
    "* I used ChatGPT to create a r^2 function for me that I can reuse for later.\n",
    "* https://chatgpt.com/share/68c608f7-f22c-800d-8234-e1e0e51611ba"
   ]
  }
 ],
 "metadata": {
  "colab": {
   "toc_visible": false
  },
  "kernelspec": {
   "display_name": "Python 3",
   "name": "python3"
  },
  "language_info": {
   "codemirror_mode": {
    "name": "ipython",
    "version": 3
   },
   "file_extension": ".py",
   "mimetype": "text/x-python",
   "name": "python",
   "nbconvert_exporter": "python",
   "pygments_lexer": "ipython3",
   "version": "3.9.6"
  }
 },
 "nbformat": 4,
 "nbformat_minor": 0
}
